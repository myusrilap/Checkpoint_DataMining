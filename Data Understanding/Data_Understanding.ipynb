{
  "nbformat": 4,
  "nbformat_minor": 0,
  "metadata": {
    "colab": {
      "provenance": []
    },
    "kernelspec": {
      "name": "python3",
      "display_name": "Python 3"
    },
    "language_info": {
      "name": "python"
    }
  },
  "cells": [
    {
      "cell_type": "markdown",
      "source": [
        "\n",
        "# **Memprediksi Hasil Permainan Catur Daring melalui Analisis Mendalam Terhadap Faktor-Faktor yang Mempengaruhi**"
      ],
      "metadata": {
        "id": "h3AZjxo2ZxS6"
      }
    },
    {
      "cell_type": "markdown",
      "source": [
        "#**Import Library**"
      ],
      "metadata": {
        "id": "JNBmfbIjWxgM"
      }
    },
    {
      "cell_type": "code",
      "source": [
        "import pandas as pd\n",
        "import seaborn as sns\n",
        "import matplotlib.pyplot as plt\n",
        "import plotly.express as px"
      ],
      "metadata": {
        "id": "JsnHJGLtW06a"
      },
      "execution_count": 2,
      "outputs": []
    },
    {
      "cell_type": "markdown",
      "source": [
        "#**BUSINESS UNDERSTANDING**"
      ],
      "metadata": {
        "id": "NjuQhrNyZtm3"
      }
    },
    {
      "cell_type": "markdown",
      "source": [
        "##**Business Objective**"
      ],
      "metadata": {
        "id": "qzSZy2KwZ4zx"
      }
    },
    {
      "cell_type": "markdown",
      "source": [
        "Tujuan bisnis dari dataset ini adalah untuk melakukan analisis mendalam terhadap faktor-faktor yang memengaruhi hasil dari permainan catur daring, khususnya untuk memprediksi siapa yang bakal menang. Analisis ini bertujuan untuk memberikan wawasan yang komprehensif kepada pemain catur tentang dinamika permainan, dengan fokus pada faktor-faktor yang mempengaruhi kemenangan atau kekalahan. Dengan demikian, analisis ini bertujuan untuk memberikan dukungan yang berarti bagi para pemain catur dalam meningkatkan kualitas permainan mereka dan mencapai hasil yang lebih baik dalam kompetisi daring."
      ],
      "metadata": {
        "id": "hU2-bH_KZ8Ge"
      }
    },
    {
      "cell_type": "markdown",
      "source": [
        "##**Assess Situation**"
      ],
      "metadata": {
        "id": "3dTYY-qjZ_Yz"
      }
    },
    {
      "cell_type": "markdown",
      "source": [
        "Situasi bisnis yang mendasari analisis ini adalah kebutuhan untuk meningkatkan pemahaman tentang faktor-faktor yang mempengaruhi hasil dari permainan catur daring. Dengan kompetisi catur daring yang semakin intens, para pemain memerlukan wawasan yang lebih dalam untuk mengidentifikasi strategi yang efektif dan memprediksi hasil pertandingan. Oleh karena itu, analisis data yang mendalam diperlukan untuk mengidentifikasi faktor kunci yang memengaruhi kemenangan atau kekalahan."
      ],
      "metadata": {
        "id": "3mI7ZTjDaGnC"
      }
    },
    {
      "cell_type": "markdown",
      "source": [
        "##**Data Mining Goals**"
      ],
      "metadata": {
        "id": "Tqvpt5r-aJKs"
      }
    },
    {
      "cell_type": "markdown",
      "source": [
        "Tujuan dari data mining dataset ini adalah untuk menghasilkan wawasan yang mendalam tentang faktor-faktor yang mempengaruhi hasil permainan catur daring. Hal ini mencakup kemampuan untuk memprediksi siapa yang akan menang dalam permainan catur berdasarkan faktor-faktor tersebut. Analisis ini bertujuan untuk memberikan dukungan yang berarti kepada pemain catur dalam meningkatkan kualitas permainan mereka dan mencapai hasil yang lebih baik dalam kompetisi daring."
      ],
      "metadata": {
        "id": "GXsyNC0zaO-o"
      }
    },
    {
      "cell_type": "markdown",
      "source": [
        "##**Project Plan**"
      ],
      "metadata": {
        "id": "78Yvo7Q9aRTt"
      }
    },
    {
      "cell_type": "markdown",
      "source": [
        "Rencana proyek ini mencakup pengumpulan dataset permainan catur daring yang mencakup informasi penting, pembersihan dataset untuk memastikan kualitas data yang baik, eksplorasi data untuk memahami karakteristik dataset dan pola awal, analisis pola kemenangan yang umum dalam permainan catur, analisis strategi pembukaan yang efektif, pembangunan model prediktif untuk memprediksi hasil permainan, evaluasi dan pengoptimalan kinerja model prediktif, implementasi model dan pengujian dalam praktik, serta penyusunan laporan dan presentasi hasil analisis kepada pemangku kepentingan."
      ],
      "metadata": {
        "id": "H0uheBdyaUfH"
      }
    },
    {
      "cell_type": "markdown",
      "source": [
        "#**DATA UNDERSTANDING**"
      ],
      "metadata": {
        "id": "8yFrLpBtZXuy"
      }
    },
    {
      "cell_type": "markdown",
      "source": [
        "##**Collect Initial Data**"
      ],
      "metadata": {
        "id": "tjm5LzEuT0oe"
      }
    },
    {
      "cell_type": "markdown",
      "source": [
        "Sumber dataset yang saya gunakan berasal dari website kaggle yang di upload oleh Ulrik Thyge Pedersen, seorang Data Scientist yang bekerja di NTT data. Dataset yang saya pakai merupakan data publik.\n",
        "\n",
        "Link Dataset: https://www.kaggle.com/datasets/ulrikthygepedersen/online-chess-games"
      ],
      "metadata": {
        "id": "SsIGird1UBw8"
      }
    },
    {
      "cell_type": "code",
      "execution_count": 5,
      "metadata": {
        "id": "3ncBfThxSpiL",
        "colab": {
          "base_uri": "https://localhost:8080/",
          "height": 1000
        },
        "outputId": "0fe0556b-75b3-42a9-d6e2-9fef4fbcc0a5"
      },
      "outputs": [
        {
          "output_type": "execute_result",
          "data": {
            "text/plain": [
              "   game_id  rated  turns victory_status winner time_increment       white_id  \\\n",
              "0        1  False     13    Out of Time  White           15+2       bourgris   \n",
              "1        2   True     16         Resign  Black           5+10           a-00   \n",
              "2        3   True     61           Mate  White           5+10         ischia   \n",
              "3        4   True     61           Mate  White           20+0  daniamurashov   \n",
              "4        5   True     95           Mate  White           30+3      nik221107   \n",
              "\n",
              "   white_rating      black_id  black_rating  \\\n",
              "0          1500          a-00          1191   \n",
              "1          1322     skinnerua          1261   \n",
              "2          1496          a-00          1500   \n",
              "3          1439  adivanov2009          1454   \n",
              "4          1523  adivanov2009          1469   \n",
              "\n",
              "                                               moves opening_code  \\\n",
              "0  d4 d5 c4 c6 cxd5 e6 dxe6 fxe6 Nf3 Bb4+ Nc3 Ba5...          D10   \n",
              "1  d4 Nc6 e4 e5 f4 f6 dxe5 fxe5 fxe5 Nxe5 Qd4 Nc6...          B00   \n",
              "2  e4 e5 d3 d6 Be3 c6 Be2 b5 Nd2 a5 a4 c5 axb5 Nc...          C20   \n",
              "3  d4 d5 Nf3 Bf5 Nc3 Nf6 Bf4 Ng4 e3 Nc6 Be2 Qd7 O...          D02   \n",
              "4  e4 e5 Nf3 d6 d4 Nc6 d5 Nb4 a3 Na6 Nc3 Be7 b4 N...          C41   \n",
              "\n",
              "   opening_moves                        opening_fullname    opening_shortname  \\\n",
              "0              5        Slav Defense: Exchange Variation         Slav Defense   \n",
              "1              4  Nimzowitsch Defense: Kennedy Variation  Nimzowitsch Defense   \n",
              "2              3   King's Pawn Game: Leonardis Variation     King's Pawn Game   \n",
              "3              3  Queen's Pawn Game: Zukertort Variation    Queen's Pawn Game   \n",
              "4              5                        Philidor Defense     Philidor Defense   \n",
              "\n",
              "  opening_response    opening_variation  \n",
              "0              NaN   Exchange Variation  \n",
              "1              NaN    Kennedy Variation  \n",
              "2              NaN  Leonardis Variation  \n",
              "3              NaN  Zukertort Variation  \n",
              "4              NaN                  NaN  "
            ],
            "text/html": [
              "\n",
              "  <div id=\"df-3c1052a4-022b-4b9d-9157-6781669dea30\" class=\"colab-df-container\">\n",
              "    <div>\n",
              "<style scoped>\n",
              "    .dataframe tbody tr th:only-of-type {\n",
              "        vertical-align: middle;\n",
              "    }\n",
              "\n",
              "    .dataframe tbody tr th {\n",
              "        vertical-align: top;\n",
              "    }\n",
              "\n",
              "    .dataframe thead th {\n",
              "        text-align: right;\n",
              "    }\n",
              "</style>\n",
              "<table border=\"1\" class=\"dataframe\">\n",
              "  <thead>\n",
              "    <tr style=\"text-align: right;\">\n",
              "      <th></th>\n",
              "      <th>game_id</th>\n",
              "      <th>rated</th>\n",
              "      <th>turns</th>\n",
              "      <th>victory_status</th>\n",
              "      <th>winner</th>\n",
              "      <th>time_increment</th>\n",
              "      <th>white_id</th>\n",
              "      <th>white_rating</th>\n",
              "      <th>black_id</th>\n",
              "      <th>black_rating</th>\n",
              "      <th>moves</th>\n",
              "      <th>opening_code</th>\n",
              "      <th>opening_moves</th>\n",
              "      <th>opening_fullname</th>\n",
              "      <th>opening_shortname</th>\n",
              "      <th>opening_response</th>\n",
              "      <th>opening_variation</th>\n",
              "    </tr>\n",
              "  </thead>\n",
              "  <tbody>\n",
              "    <tr>\n",
              "      <th>0</th>\n",
              "      <td>1</td>\n",
              "      <td>False</td>\n",
              "      <td>13</td>\n",
              "      <td>Out of Time</td>\n",
              "      <td>White</td>\n",
              "      <td>15+2</td>\n",
              "      <td>bourgris</td>\n",
              "      <td>1500</td>\n",
              "      <td>a-00</td>\n",
              "      <td>1191</td>\n",
              "      <td>d4 d5 c4 c6 cxd5 e6 dxe6 fxe6 Nf3 Bb4+ Nc3 Ba5...</td>\n",
              "      <td>D10</td>\n",
              "      <td>5</td>\n",
              "      <td>Slav Defense: Exchange Variation</td>\n",
              "      <td>Slav Defense</td>\n",
              "      <td>NaN</td>\n",
              "      <td>Exchange Variation</td>\n",
              "    </tr>\n",
              "    <tr>\n",
              "      <th>1</th>\n",
              "      <td>2</td>\n",
              "      <td>True</td>\n",
              "      <td>16</td>\n",
              "      <td>Resign</td>\n",
              "      <td>Black</td>\n",
              "      <td>5+10</td>\n",
              "      <td>a-00</td>\n",
              "      <td>1322</td>\n",
              "      <td>skinnerua</td>\n",
              "      <td>1261</td>\n",
              "      <td>d4 Nc6 e4 e5 f4 f6 dxe5 fxe5 fxe5 Nxe5 Qd4 Nc6...</td>\n",
              "      <td>B00</td>\n",
              "      <td>4</td>\n",
              "      <td>Nimzowitsch Defense: Kennedy Variation</td>\n",
              "      <td>Nimzowitsch Defense</td>\n",
              "      <td>NaN</td>\n",
              "      <td>Kennedy Variation</td>\n",
              "    </tr>\n",
              "    <tr>\n",
              "      <th>2</th>\n",
              "      <td>3</td>\n",
              "      <td>True</td>\n",
              "      <td>61</td>\n",
              "      <td>Mate</td>\n",
              "      <td>White</td>\n",
              "      <td>5+10</td>\n",
              "      <td>ischia</td>\n",
              "      <td>1496</td>\n",
              "      <td>a-00</td>\n",
              "      <td>1500</td>\n",
              "      <td>e4 e5 d3 d6 Be3 c6 Be2 b5 Nd2 a5 a4 c5 axb5 Nc...</td>\n",
              "      <td>C20</td>\n",
              "      <td>3</td>\n",
              "      <td>King's Pawn Game: Leonardis Variation</td>\n",
              "      <td>King's Pawn Game</td>\n",
              "      <td>NaN</td>\n",
              "      <td>Leonardis Variation</td>\n",
              "    </tr>\n",
              "    <tr>\n",
              "      <th>3</th>\n",
              "      <td>4</td>\n",
              "      <td>True</td>\n",
              "      <td>61</td>\n",
              "      <td>Mate</td>\n",
              "      <td>White</td>\n",
              "      <td>20+0</td>\n",
              "      <td>daniamurashov</td>\n",
              "      <td>1439</td>\n",
              "      <td>adivanov2009</td>\n",
              "      <td>1454</td>\n",
              "      <td>d4 d5 Nf3 Bf5 Nc3 Nf6 Bf4 Ng4 e3 Nc6 Be2 Qd7 O...</td>\n",
              "      <td>D02</td>\n",
              "      <td>3</td>\n",
              "      <td>Queen's Pawn Game: Zukertort Variation</td>\n",
              "      <td>Queen's Pawn Game</td>\n",
              "      <td>NaN</td>\n",
              "      <td>Zukertort Variation</td>\n",
              "    </tr>\n",
              "    <tr>\n",
              "      <th>4</th>\n",
              "      <td>5</td>\n",
              "      <td>True</td>\n",
              "      <td>95</td>\n",
              "      <td>Mate</td>\n",
              "      <td>White</td>\n",
              "      <td>30+3</td>\n",
              "      <td>nik221107</td>\n",
              "      <td>1523</td>\n",
              "      <td>adivanov2009</td>\n",
              "      <td>1469</td>\n",
              "      <td>e4 e5 Nf3 d6 d4 Nc6 d5 Nb4 a3 Na6 Nc3 Be7 b4 N...</td>\n",
              "      <td>C41</td>\n",
              "      <td>5</td>\n",
              "      <td>Philidor Defense</td>\n",
              "      <td>Philidor Defense</td>\n",
              "      <td>NaN</td>\n",
              "      <td>NaN</td>\n",
              "    </tr>\n",
              "  </tbody>\n",
              "</table>\n",
              "</div>\n",
              "    <div class=\"colab-df-buttons\">\n",
              "\n",
              "  <div class=\"colab-df-container\">\n",
              "    <button class=\"colab-df-convert\" onclick=\"convertToInteractive('df-3c1052a4-022b-4b9d-9157-6781669dea30')\"\n",
              "            title=\"Convert this dataframe to an interactive table.\"\n",
              "            style=\"display:none;\">\n",
              "\n",
              "  <svg xmlns=\"http://www.w3.org/2000/svg\" height=\"24px\" viewBox=\"0 -960 960 960\">\n",
              "    <path d=\"M120-120v-720h720v720H120Zm60-500h600v-160H180v160Zm220 220h160v-160H400v160Zm0 220h160v-160H400v160ZM180-400h160v-160H180v160Zm440 0h160v-160H620v160ZM180-180h160v-160H180v160Zm440 0h160v-160H620v160Z\"/>\n",
              "  </svg>\n",
              "    </button>\n",
              "\n",
              "  <style>\n",
              "    .colab-df-container {\n",
              "      display:flex;\n",
              "      gap: 12px;\n",
              "    }\n",
              "\n",
              "    .colab-df-convert {\n",
              "      background-color: #E8F0FE;\n",
              "      border: none;\n",
              "      border-radius: 50%;\n",
              "      cursor: pointer;\n",
              "      display: none;\n",
              "      fill: #1967D2;\n",
              "      height: 32px;\n",
              "      padding: 0 0 0 0;\n",
              "      width: 32px;\n",
              "    }\n",
              "\n",
              "    .colab-df-convert:hover {\n",
              "      background-color: #E2EBFA;\n",
              "      box-shadow: 0px 1px 2px rgba(60, 64, 67, 0.3), 0px 1px 3px 1px rgba(60, 64, 67, 0.15);\n",
              "      fill: #174EA6;\n",
              "    }\n",
              "\n",
              "    .colab-df-buttons div {\n",
              "      margin-bottom: 4px;\n",
              "    }\n",
              "\n",
              "    [theme=dark] .colab-df-convert {\n",
              "      background-color: #3B4455;\n",
              "      fill: #D2E3FC;\n",
              "    }\n",
              "\n",
              "    [theme=dark] .colab-df-convert:hover {\n",
              "      background-color: #434B5C;\n",
              "      box-shadow: 0px 1px 3px 1px rgba(0, 0, 0, 0.15);\n",
              "      filter: drop-shadow(0px 1px 2px rgba(0, 0, 0, 0.3));\n",
              "      fill: #FFFFFF;\n",
              "    }\n",
              "  </style>\n",
              "\n",
              "    <script>\n",
              "      const buttonEl =\n",
              "        document.querySelector('#df-3c1052a4-022b-4b9d-9157-6781669dea30 button.colab-df-convert');\n",
              "      buttonEl.style.display =\n",
              "        google.colab.kernel.accessAllowed ? 'block' : 'none';\n",
              "\n",
              "      async function convertToInteractive(key) {\n",
              "        const element = document.querySelector('#df-3c1052a4-022b-4b9d-9157-6781669dea30');\n",
              "        const dataTable =\n",
              "          await google.colab.kernel.invokeFunction('convertToInteractive',\n",
              "                                                    [key], {});\n",
              "        if (!dataTable) return;\n",
              "\n",
              "        const docLinkHtml = 'Like what you see? Visit the ' +\n",
              "          '<a target=\"_blank\" href=https://colab.research.google.com/notebooks/data_table.ipynb>data table notebook</a>'\n",
              "          + ' to learn more about interactive tables.';\n",
              "        element.innerHTML = '';\n",
              "        dataTable['output_type'] = 'display_data';\n",
              "        await google.colab.output.renderOutput(dataTable, element);\n",
              "        const docLink = document.createElement('div');\n",
              "        docLink.innerHTML = docLinkHtml;\n",
              "        element.appendChild(docLink);\n",
              "      }\n",
              "    </script>\n",
              "  </div>\n",
              "\n",
              "\n",
              "<div id=\"df-68ed75b2-4018-4d66-9d59-12db2d086e12\">\n",
              "  <button class=\"colab-df-quickchart\" onclick=\"quickchart('df-68ed75b2-4018-4d66-9d59-12db2d086e12')\"\n",
              "            title=\"Suggest charts\"\n",
              "            style=\"display:none;\">\n",
              "\n",
              "<svg xmlns=\"http://www.w3.org/2000/svg\" height=\"24px\"viewBox=\"0 0 24 24\"\n",
              "     width=\"24px\">\n",
              "    <g>\n",
              "        <path d=\"M19 3H5c-1.1 0-2 .9-2 2v14c0 1.1.9 2 2 2h14c1.1 0 2-.9 2-2V5c0-1.1-.9-2-2-2zM9 17H7v-7h2v7zm4 0h-2V7h2v10zm4 0h-2v-4h2v4z\"/>\n",
              "    </g>\n",
              "</svg>\n",
              "  </button>\n",
              "\n",
              "<style>\n",
              "  .colab-df-quickchart {\n",
              "      --bg-color: #E8F0FE;\n",
              "      --fill-color: #1967D2;\n",
              "      --hover-bg-color: #E2EBFA;\n",
              "      --hover-fill-color: #174EA6;\n",
              "      --disabled-fill-color: #AAA;\n",
              "      --disabled-bg-color: #DDD;\n",
              "  }\n",
              "\n",
              "  [theme=dark] .colab-df-quickchart {\n",
              "      --bg-color: #3B4455;\n",
              "      --fill-color: #D2E3FC;\n",
              "      --hover-bg-color: #434B5C;\n",
              "      --hover-fill-color: #FFFFFF;\n",
              "      --disabled-bg-color: #3B4455;\n",
              "      --disabled-fill-color: #666;\n",
              "  }\n",
              "\n",
              "  .colab-df-quickchart {\n",
              "    background-color: var(--bg-color);\n",
              "    border: none;\n",
              "    border-radius: 50%;\n",
              "    cursor: pointer;\n",
              "    display: none;\n",
              "    fill: var(--fill-color);\n",
              "    height: 32px;\n",
              "    padding: 0;\n",
              "    width: 32px;\n",
              "  }\n",
              "\n",
              "  .colab-df-quickchart:hover {\n",
              "    background-color: var(--hover-bg-color);\n",
              "    box-shadow: 0 1px 2px rgba(60, 64, 67, 0.3), 0 1px 3px 1px rgba(60, 64, 67, 0.15);\n",
              "    fill: var(--button-hover-fill-color);\n",
              "  }\n",
              "\n",
              "  .colab-df-quickchart-complete:disabled,\n",
              "  .colab-df-quickchart-complete:disabled:hover {\n",
              "    background-color: var(--disabled-bg-color);\n",
              "    fill: var(--disabled-fill-color);\n",
              "    box-shadow: none;\n",
              "  }\n",
              "\n",
              "  .colab-df-spinner {\n",
              "    border: 2px solid var(--fill-color);\n",
              "    border-color: transparent;\n",
              "    border-bottom-color: var(--fill-color);\n",
              "    animation:\n",
              "      spin 1s steps(1) infinite;\n",
              "  }\n",
              "\n",
              "  @keyframes spin {\n",
              "    0% {\n",
              "      border-color: transparent;\n",
              "      border-bottom-color: var(--fill-color);\n",
              "      border-left-color: var(--fill-color);\n",
              "    }\n",
              "    20% {\n",
              "      border-color: transparent;\n",
              "      border-left-color: var(--fill-color);\n",
              "      border-top-color: var(--fill-color);\n",
              "    }\n",
              "    30% {\n",
              "      border-color: transparent;\n",
              "      border-left-color: var(--fill-color);\n",
              "      border-top-color: var(--fill-color);\n",
              "      border-right-color: var(--fill-color);\n",
              "    }\n",
              "    40% {\n",
              "      border-color: transparent;\n",
              "      border-right-color: var(--fill-color);\n",
              "      border-top-color: var(--fill-color);\n",
              "    }\n",
              "    60% {\n",
              "      border-color: transparent;\n",
              "      border-right-color: var(--fill-color);\n",
              "    }\n",
              "    80% {\n",
              "      border-color: transparent;\n",
              "      border-right-color: var(--fill-color);\n",
              "      border-bottom-color: var(--fill-color);\n",
              "    }\n",
              "    90% {\n",
              "      border-color: transparent;\n",
              "      border-bottom-color: var(--fill-color);\n",
              "    }\n",
              "  }\n",
              "</style>\n",
              "\n",
              "  <script>\n",
              "    async function quickchart(key) {\n",
              "      const quickchartButtonEl =\n",
              "        document.querySelector('#' + key + ' button');\n",
              "      quickchartButtonEl.disabled = true;  // To prevent multiple clicks.\n",
              "      quickchartButtonEl.classList.add('colab-df-spinner');\n",
              "      try {\n",
              "        const charts = await google.colab.kernel.invokeFunction(\n",
              "            'suggestCharts', [key], {});\n",
              "      } catch (error) {\n",
              "        console.error('Error during call to suggestCharts:', error);\n",
              "      }\n",
              "      quickchartButtonEl.classList.remove('colab-df-spinner');\n",
              "      quickchartButtonEl.classList.add('colab-df-quickchart-complete');\n",
              "    }\n",
              "    (() => {\n",
              "      let quickchartButtonEl =\n",
              "        document.querySelector('#df-68ed75b2-4018-4d66-9d59-12db2d086e12 button');\n",
              "      quickchartButtonEl.style.display =\n",
              "        google.colab.kernel.accessAllowed ? 'block' : 'none';\n",
              "    })();\n",
              "  </script>\n",
              "</div>\n",
              "    </div>\n",
              "  </div>\n"
            ],
            "application/vnd.google.colaboratory.intrinsic+json": {
              "type": "dataframe",
              "variable_name": "df",
              "summary": "{\n  \"name\": \"df\",\n  \"rows\": 20058,\n  \"fields\": [\n    {\n      \"column\": \"game_id\",\n      \"properties\": {\n        \"dtype\": \"number\",\n        \"std\": 5790,\n        \"min\": 1,\n        \"max\": 20058,\n        \"num_unique_values\": 20058,\n        \"samples\": [\n          19391,\n          4227,\n          18894\n        ],\n        \"semantic_type\": \"\",\n        \"description\": \"\"\n      }\n    },\n    {\n      \"column\": \"rated\",\n      \"properties\": {\n        \"dtype\": \"boolean\",\n        \"num_unique_values\": 2,\n        \"samples\": [\n          true,\n          false\n        ],\n        \"semantic_type\": \"\",\n        \"description\": \"\"\n      }\n    },\n    {\n      \"column\": \"turns\",\n      \"properties\": {\n        \"dtype\": \"number\",\n        \"std\": 33,\n        \"min\": 1,\n        \"max\": 349,\n        \"num_unique_values\": 211,\n        \"samples\": [\n          37,\n          146\n        ],\n        \"semantic_type\": \"\",\n        \"description\": \"\"\n      }\n    },\n    {\n      \"column\": \"victory_status\",\n      \"properties\": {\n        \"dtype\": \"category\",\n        \"num_unique_values\": 4,\n        \"samples\": [\n          \"Resign\",\n          \"Draw\"\n        ],\n        \"semantic_type\": \"\",\n        \"description\": \"\"\n      }\n    },\n    {\n      \"column\": \"winner\",\n      \"properties\": {\n        \"dtype\": \"category\",\n        \"num_unique_values\": 3,\n        \"samples\": [\n          \"White\",\n          \"Black\"\n        ],\n        \"semantic_type\": \"\",\n        \"description\": \"\"\n      }\n    },\n    {\n      \"column\": \"time_increment\",\n      \"properties\": {\n        \"dtype\": \"category\",\n        \"num_unique_values\": 400,\n        \"samples\": [\n          \"17+15\",\n          \"11+3\"\n        ],\n        \"semantic_type\": \"\",\n        \"description\": \"\"\n      }\n    },\n    {\n      \"column\": \"white_id\",\n      \"properties\": {\n        \"dtype\": \"category\",\n        \"num_unique_values\": 9438,\n        \"samples\": [\n          \"jotao\",\n          \"tosimiesseppo\"\n        ],\n        \"semantic_type\": \"\",\n        \"description\": \"\"\n      }\n    },\n    {\n      \"column\": \"white_rating\",\n      \"properties\": {\n        \"dtype\": \"number\",\n        \"std\": 291,\n        \"min\": 784,\n        \"max\": 2700,\n        \"num_unique_values\": 1516,\n        \"samples\": [\n          1571,\n          1232\n        ],\n        \"semantic_type\": \"\",\n        \"description\": \"\"\n      }\n    },\n    {\n      \"column\": \"black_id\",\n      \"properties\": {\n        \"dtype\": \"category\",\n        \"num_unique_values\": 9331,\n        \"samples\": [\n          \"tandemchess\",\n          \"ghaffari\"\n        ],\n        \"semantic_type\": \"\",\n        \"description\": \"\"\n      }\n    },\n    {\n      \"column\": \"black_rating\",\n      \"properties\": {\n        \"dtype\": \"number\",\n        \"std\": 291,\n        \"min\": 789,\n        \"max\": 2723,\n        \"num_unique_values\": 1521,\n        \"samples\": [\n          1811,\n          1817\n        ],\n        \"semantic_type\": \"\",\n        \"description\": \"\"\n      }\n    },\n    {\n      \"column\": \"moves\",\n      \"properties\": {\n        \"dtype\": \"string\",\n        \"num_unique_values\": 18920,\n        \"samples\": [\n          \"d4 Nf6 c4 e6 Nf3 d5 Nc3 Bb4 a3 Bxc3+ bxc3 c6 Bg5 O-O cxd5 cxd5 e3 Nbd7 Bd3 h6 Bf4 a6 Ne5 b5 a4 Bb7 axb5 axb5 Rxa8 Bxa8 Bxb5 Nxe5 Bxe5 Ne4 Qd3 Qa5 O-O Nxc3 Bd7 Rd8 Rc1 Rxd7 Qxc3 Qxc3 Rxc3 Ra7 Rc8+ Kh7 h3 Ra1+ Kh2 f6 Bd6 Ra6 Bf8 Kg8 Bc5+ Kh7 f3 h5 e4 dxe4 fxe4 Bxe4 Re8 Ra2 Rxe6 Rxg2+ Kh1 Bf3 Rd6\",\n          \"e4 c5 Nf3 Nc6 d4 cxd4 Nxd4 e5 Nxc6 bxc6 Nc3 Bb4 Bd2 Qf6 Qe2 a5 O-O-O Ba6 a3 Bxe2 Bxe2 Bxc3 Bxc3 Qxf2 Bf3 Nf6 Bxe5 O-O-O Rhf1 Qb6 Bd4 c5 Be3 d5 e5 d4 Bg5 Rhe8 exf6 gxf6 Bg4+ Kb7 Rxf6 Qb5 Bf3+ Ka7 Rxf7+ Ka6 Bxd8 Rxd8 Re1 Rb8 b3 a4 Be2 Qxe2 Rxe2 axb3 Re6+ Ka5 Ra7+ Kb5 cxb3 d3 Kd2 c4 bxc4+ Kxc4 Re4+ Kb3 Kxd3 Ka2 Rxh7 Rb3+ Kd4 Rxa3 Re2+ Kb3 Re3+ Ka4 Rxa3+ Kxa3 g4\"\n        ],\n        \"semantic_type\": \"\",\n        \"description\": \"\"\n      }\n    },\n    {\n      \"column\": \"opening_code\",\n      \"properties\": {\n        \"dtype\": \"category\",\n        \"num_unique_values\": 365,\n        \"samples\": [\n          \"B25\",\n          \"A04\"\n        ],\n        \"semantic_type\": \"\",\n        \"description\": \"\"\n      }\n    },\n    {\n      \"column\": \"opening_moves\",\n      \"properties\": {\n        \"dtype\": \"number\",\n        \"std\": 2,\n        \"min\": 1,\n        \"max\": 28,\n        \"num_unique_values\": 23,\n        \"samples\": [\n          19,\n          7\n        ],\n        \"semantic_type\": \"\",\n        \"description\": \"\"\n      }\n    },\n    {\n      \"column\": \"opening_fullname\",\n      \"properties\": {\n        \"dtype\": \"category\",\n        \"num_unique_values\": 1477,\n        \"samples\": [\n          \"Semi-Slav Defense: Marshall Gambit\",\n          \"Mikenas Defense\"\n        ],\n        \"semantic_type\": \"\",\n        \"description\": \"\"\n      }\n    },\n    {\n      \"column\": \"opening_shortname\",\n      \"properties\": {\n        \"dtype\": \"category\",\n        \"num_unique_values\": 128,\n        \"samples\": [\n          \"Ponziani Opening\",\n          \"Hungarian Opening\"\n        ],\n        \"semantic_type\": \"\",\n        \"description\": \"\"\n      }\n    },\n    {\n      \"column\": \"opening_response\",\n      \"properties\": {\n        \"dtype\": \"category\",\n        \"num_unique_values\": 3,\n        \"samples\": [\n          \"Refused\",\n          \"Accepted\"\n        ],\n        \"semantic_type\": \"\",\n        \"description\": \"\"\n      }\n    },\n    {\n      \"column\": \"opening_variation\",\n      \"properties\": {\n        \"dtype\": \"category\",\n        \"num_unique_values\": 615,\n        \"samples\": [\n          \"Euwe Defense\",\n          \"Hyperaccelerated Pterodactyl\"\n        ],\n        \"semantic_type\": \"\",\n        \"description\": \"\"\n      }\n    }\n  ]\n}"
            }
          },
          "metadata": {},
          "execution_count": 5
        }
      ],
      "source": [
        "df = pd.read_csv('chess_games.csv')\n",
        "df.head()"
      ]
    },
    {
      "cell_type": "markdown",
      "source": [
        "##**Describe Data**"
      ],
      "metadata": {
        "id": "-hy6_uvIVOGH"
      }
    },
    {
      "cell_type": "markdown",
      "source": [
        "####Informasi Dasar"
      ],
      "metadata": {
        "id": "nl6nccPmUZ6F"
      }
    },
    {
      "cell_type": "code",
      "source": [
        "df.info()"
      ],
      "metadata": {
        "id": "zEyDvT0EUcB2",
        "colab": {
          "base_uri": "https://localhost:8080/"
        },
        "outputId": "5dfc41a5-7618-4061-cc9c-cb4a1349c586"
      },
      "execution_count": 14,
      "outputs": [
        {
          "output_type": "stream",
          "name": "stdout",
          "text": [
            "<class 'pandas.core.frame.DataFrame'>\n",
            "RangeIndex: 20058 entries, 0 to 20057\n",
            "Data columns (total 17 columns):\n",
            " #   Column             Non-Null Count  Dtype \n",
            "---  ------             --------------  ----- \n",
            " 0   game_id            20058 non-null  int64 \n",
            " 1   rated              20058 non-null  bool  \n",
            " 2   turns              20058 non-null  int64 \n",
            " 3   victory_status     20058 non-null  object\n",
            " 4   winner             20058 non-null  object\n",
            " 5   time_increment     20058 non-null  object\n",
            " 6   white_id           20058 non-null  object\n",
            " 7   white_rating       20058 non-null  int64 \n",
            " 8   black_id           20058 non-null  object\n",
            " 9   black_rating       20058 non-null  int64 \n",
            " 10  moves              20058 non-null  object\n",
            " 11  opening_code       20058 non-null  object\n",
            " 12  opening_moves      20058 non-null  int64 \n",
            " 13  opening_fullname   20058 non-null  object\n",
            " 14  opening_shortname  20058 non-null  object\n",
            " 15  opening_response   1207 non-null   object\n",
            " 16  opening_variation  14398 non-null  object\n",
            "dtypes: bool(1), int64(5), object(11)\n",
            "memory usage: 2.5+ MB\n"
          ]
        }
      ]
    },
    {
      "cell_type": "markdown",
      "source": [
        "Berdasarkan data diatas dapat diketahui bahwa dataset ini memiliki 20.058 baris dan 17 Kolom.\n"
      ],
      "metadata": {
        "id": "ZwH62IRTVXNL"
      }
    },
    {
      "cell_type": "markdown",
      "source": [
        "####Informasi Lanjutan"
      ],
      "metadata": {
        "id": "BXEzaPAHVMPd"
      }
    },
    {
      "cell_type": "code",
      "source": [
        "df.info()"
      ],
      "metadata": {
        "id": "L1CvPak8VHOF",
        "colab": {
          "base_uri": "https://localhost:8080/"
        },
        "outputId": "df46c1b4-b249-4dc2-fadb-91f5fd8c3f0d"
      },
      "execution_count": 21,
      "outputs": [
        {
          "output_type": "stream",
          "name": "stdout",
          "text": [
            "<class 'pandas.core.frame.DataFrame'>\n",
            "RangeIndex: 20058 entries, 0 to 20057\n",
            "Data columns (total 17 columns):\n",
            " #   Column             Non-Null Count  Dtype \n",
            "---  ------             --------------  ----- \n",
            " 0   game_id            20058 non-null  int64 \n",
            " 1   rated              20058 non-null  bool  \n",
            " 2   turns              20058 non-null  int64 \n",
            " 3   victory_status     20058 non-null  object\n",
            " 4   winner             20058 non-null  object\n",
            " 5   time_increment     20058 non-null  object\n",
            " 6   white_id           20058 non-null  object\n",
            " 7   white_rating       20058 non-null  int64 \n",
            " 8   black_id           20058 non-null  object\n",
            " 9   black_rating       20058 non-null  int64 \n",
            " 10  moves              20058 non-null  object\n",
            " 11  opening_code       20058 non-null  object\n",
            " 12  opening_moves      20058 non-null  int64 \n",
            " 13  opening_fullname   20058 non-null  object\n",
            " 14  opening_shortname  20058 non-null  object\n",
            " 15  opening_response   1207 non-null   object\n",
            " 16  opening_variation  14398 non-null  object\n",
            "dtypes: bool(1), int64(5), object(11)\n",
            "memory usage: 2.5+ MB\n"
          ]
        }
      ]
    },
    {
      "cell_type": "markdown",
      "source": [
        "1. game_id:\n",
        "        Jumlah baris: 20058\n",
        "        Tipe data: integer\n",
        "        Deskripsi: ID unik untuk setiap permainan catur.\n",
        "\n",
        "2. rated:\n",
        "        Jumlah baris: 20058\n",
        "        Tipe data: boolean\n",
        "        Deskripsi: Menunjukkan apakah permainan memiliki peringkat (rated) atau tidak.\n",
        "\n",
        "3. turns:\n",
        "        Jumlah baris: 20058\n",
        "        Tipe data: integer\n",
        "        Deskripsi: Jumlah giliran (turn) dalam permainan.\n",
        "\n",
        "4. victory_status:\n",
        "        Jumlah baris: 20058\n",
        "        Tipe data: object (string)\n",
        "        Deskripsi: Status kemenangan dalam permainan, mungkin berisi 'mate', 'resign', 'outoftime', atau 'draw'.\n",
        "\n",
        "5. winner:\n",
        "        Jumlah baris: 20058\n",
        "        Tipe data: object (string)\n",
        "        Deskripsi: Pemenang permainan, mungkin 'white', 'black', 'draw', atau '-' (jika belum ada pemenang).\n",
        "\n",
        "6. time_increment:\n",
        "        Jumlah baris: 20058\n",
        "        Tipe data: object (string)\n",
        "        Deskripsi: Waktu yang ditambahkan setiap langkah dalam permainan.\n",
        "\n",
        "7. white_id:\n",
        "        Jumlah baris: 20058\n",
        "        Tipe data: object (string)\n",
        "        Deskripsi: ID pemain putih.\n",
        "\n",
        "8. white_rating:\n",
        "        Jumlah baris: 20058\n",
        "        Tipe data: integer\n",
        "        Deskripsi: Peringkat Elo pemain putih.\n",
        "\n",
        "9. black_id:\n",
        "        Jumlah baris: 20058\n",
        "        Tipe data: object (string)\n",
        "        Deskripsi: ID pemain hitam.\n",
        "\n",
        "10. black_rating:\n",
        "        Jumlah baris: 20058\n",
        "        Tipe data: integer\n",
        "        Deskripsi: Peringkat Elo pemain hitam.\n",
        "\n",
        "11. moves:\n",
        "        Jumlah baris: 20058\n",
        "        Tipe data: object (string)\n",
        "        Deskripsi: Langkah-langkah dalam permainan, direpresentasikan sebagai string.\n",
        "\n",
        "12. opening_code:\n",
        "        Jumlah baris: 20058\n",
        "        Tipe data: object (string)\n",
        "        Deskripsi: Kode pembukaan (opening) dalam notasi catur.\n",
        "\n",
        "13. opening_moves:\n",
        "        Jumlah baris: 20058\n",
        "        Tipe data: integer\n",
        "        Deskripsi: Jumlah langkah dalam pembukaan.\n",
        "\n",
        "14. opening_fullname:\n",
        "        Jumlah baris: 20058\n",
        "        Tipe data: object (string)\n",
        "        Deskripsi: Nama lengkap pembukaan.\n",
        "\n",
        "15. opening_shortname:\n",
        "        Jumlah baris: 20058\n",
        "        Tipe data: object (string)\n",
        "        Deskripsi: Nama singkat pembukaan.\n",
        "\n",
        "16. opening_response:\n",
        "        Jumlah baris: 1207\n",
        "        Tipe data: object (string)\n",
        "        Deskripsi: Respons (jika ada) terhadap pembukaan.\n",
        "\n",
        "17. opening_variation:\n",
        "        Jumlah baris: 14398\n",
        "        Tipe data: object (string)\n",
        "        Deskripsi: Variasi pembukaan."
      ],
      "metadata": {
        "id": "-6miym5GVbaC"
      }
    },
    {
      "cell_type": "markdown",
      "source": [
        "####Informasi Statistik Deskriptif"
      ],
      "metadata": {
        "id": "D5GD3qzXVrF5"
      }
    },
    {
      "cell_type": "code",
      "source": [
        "df.describe()"
      ],
      "metadata": {
        "id": "rHdqc2OkVuPC",
        "colab": {
          "base_uri": "https://localhost:8080/",
          "height": 300
        },
        "outputId": "cbdb5b61-a9f0-46b8-ec04-a47e3c6abaa1"
      },
      "execution_count": 22,
      "outputs": [
        {
          "output_type": "execute_result",
          "data": {
            "text/plain": [
              "            game_id         turns  white_rating  black_rating  opening_moves\n",
              "count  20058.000000  20058.000000  20058.000000  20058.000000   20058.000000\n",
              "mean   10029.500000     60.465999   1596.631868   1588.831987       4.816981\n",
              "std     5790.390185     33.570585    291.253376    291.036126       2.797152\n",
              "min        1.000000      1.000000    784.000000    789.000000       1.000000\n",
              "25%     5015.250000     37.000000   1398.000000   1391.000000       3.000000\n",
              "50%    10029.500000     55.000000   1567.000000   1562.000000       4.000000\n",
              "75%    15043.750000     79.000000   1793.000000   1784.000000       6.000000\n",
              "max    20058.000000    349.000000   2700.000000   2723.000000      28.000000"
            ],
            "text/html": [
              "\n",
              "  <div id=\"df-c0a86e5d-9007-4495-863b-e557c5ceb2ef\" class=\"colab-df-container\">\n",
              "    <div>\n",
              "<style scoped>\n",
              "    .dataframe tbody tr th:only-of-type {\n",
              "        vertical-align: middle;\n",
              "    }\n",
              "\n",
              "    .dataframe tbody tr th {\n",
              "        vertical-align: top;\n",
              "    }\n",
              "\n",
              "    .dataframe thead th {\n",
              "        text-align: right;\n",
              "    }\n",
              "</style>\n",
              "<table border=\"1\" class=\"dataframe\">\n",
              "  <thead>\n",
              "    <tr style=\"text-align: right;\">\n",
              "      <th></th>\n",
              "      <th>game_id</th>\n",
              "      <th>turns</th>\n",
              "      <th>white_rating</th>\n",
              "      <th>black_rating</th>\n",
              "      <th>opening_moves</th>\n",
              "    </tr>\n",
              "  </thead>\n",
              "  <tbody>\n",
              "    <tr>\n",
              "      <th>count</th>\n",
              "      <td>20058.000000</td>\n",
              "      <td>20058.000000</td>\n",
              "      <td>20058.000000</td>\n",
              "      <td>20058.000000</td>\n",
              "      <td>20058.000000</td>\n",
              "    </tr>\n",
              "    <tr>\n",
              "      <th>mean</th>\n",
              "      <td>10029.500000</td>\n",
              "      <td>60.465999</td>\n",
              "      <td>1596.631868</td>\n",
              "      <td>1588.831987</td>\n",
              "      <td>4.816981</td>\n",
              "    </tr>\n",
              "    <tr>\n",
              "      <th>std</th>\n",
              "      <td>5790.390185</td>\n",
              "      <td>33.570585</td>\n",
              "      <td>291.253376</td>\n",
              "      <td>291.036126</td>\n",
              "      <td>2.797152</td>\n",
              "    </tr>\n",
              "    <tr>\n",
              "      <th>min</th>\n",
              "      <td>1.000000</td>\n",
              "      <td>1.000000</td>\n",
              "      <td>784.000000</td>\n",
              "      <td>789.000000</td>\n",
              "      <td>1.000000</td>\n",
              "    </tr>\n",
              "    <tr>\n",
              "      <th>25%</th>\n",
              "      <td>5015.250000</td>\n",
              "      <td>37.000000</td>\n",
              "      <td>1398.000000</td>\n",
              "      <td>1391.000000</td>\n",
              "      <td>3.000000</td>\n",
              "    </tr>\n",
              "    <tr>\n",
              "      <th>50%</th>\n",
              "      <td>10029.500000</td>\n",
              "      <td>55.000000</td>\n",
              "      <td>1567.000000</td>\n",
              "      <td>1562.000000</td>\n",
              "      <td>4.000000</td>\n",
              "    </tr>\n",
              "    <tr>\n",
              "      <th>75%</th>\n",
              "      <td>15043.750000</td>\n",
              "      <td>79.000000</td>\n",
              "      <td>1793.000000</td>\n",
              "      <td>1784.000000</td>\n",
              "      <td>6.000000</td>\n",
              "    </tr>\n",
              "    <tr>\n",
              "      <th>max</th>\n",
              "      <td>20058.000000</td>\n",
              "      <td>349.000000</td>\n",
              "      <td>2700.000000</td>\n",
              "      <td>2723.000000</td>\n",
              "      <td>28.000000</td>\n",
              "    </tr>\n",
              "  </tbody>\n",
              "</table>\n",
              "</div>\n",
              "    <div class=\"colab-df-buttons\">\n",
              "\n",
              "  <div class=\"colab-df-container\">\n",
              "    <button class=\"colab-df-convert\" onclick=\"convertToInteractive('df-c0a86e5d-9007-4495-863b-e557c5ceb2ef')\"\n",
              "            title=\"Convert this dataframe to an interactive table.\"\n",
              "            style=\"display:none;\">\n",
              "\n",
              "  <svg xmlns=\"http://www.w3.org/2000/svg\" height=\"24px\" viewBox=\"0 -960 960 960\">\n",
              "    <path d=\"M120-120v-720h720v720H120Zm60-500h600v-160H180v160Zm220 220h160v-160H400v160Zm0 220h160v-160H400v160ZM180-400h160v-160H180v160Zm440 0h160v-160H620v160ZM180-180h160v-160H180v160Zm440 0h160v-160H620v160Z\"/>\n",
              "  </svg>\n",
              "    </button>\n",
              "\n",
              "  <style>\n",
              "    .colab-df-container {\n",
              "      display:flex;\n",
              "      gap: 12px;\n",
              "    }\n",
              "\n",
              "    .colab-df-convert {\n",
              "      background-color: #E8F0FE;\n",
              "      border: none;\n",
              "      border-radius: 50%;\n",
              "      cursor: pointer;\n",
              "      display: none;\n",
              "      fill: #1967D2;\n",
              "      height: 32px;\n",
              "      padding: 0 0 0 0;\n",
              "      width: 32px;\n",
              "    }\n",
              "\n",
              "    .colab-df-convert:hover {\n",
              "      background-color: #E2EBFA;\n",
              "      box-shadow: 0px 1px 2px rgba(60, 64, 67, 0.3), 0px 1px 3px 1px rgba(60, 64, 67, 0.15);\n",
              "      fill: #174EA6;\n",
              "    }\n",
              "\n",
              "    .colab-df-buttons div {\n",
              "      margin-bottom: 4px;\n",
              "    }\n",
              "\n",
              "    [theme=dark] .colab-df-convert {\n",
              "      background-color: #3B4455;\n",
              "      fill: #D2E3FC;\n",
              "    }\n",
              "\n",
              "    [theme=dark] .colab-df-convert:hover {\n",
              "      background-color: #434B5C;\n",
              "      box-shadow: 0px 1px 3px 1px rgba(0, 0, 0, 0.15);\n",
              "      filter: drop-shadow(0px 1px 2px rgba(0, 0, 0, 0.3));\n",
              "      fill: #FFFFFF;\n",
              "    }\n",
              "  </style>\n",
              "\n",
              "    <script>\n",
              "      const buttonEl =\n",
              "        document.querySelector('#df-c0a86e5d-9007-4495-863b-e557c5ceb2ef button.colab-df-convert');\n",
              "      buttonEl.style.display =\n",
              "        google.colab.kernel.accessAllowed ? 'block' : 'none';\n",
              "\n",
              "      async function convertToInteractive(key) {\n",
              "        const element = document.querySelector('#df-c0a86e5d-9007-4495-863b-e557c5ceb2ef');\n",
              "        const dataTable =\n",
              "          await google.colab.kernel.invokeFunction('convertToInteractive',\n",
              "                                                    [key], {});\n",
              "        if (!dataTable) return;\n",
              "\n",
              "        const docLinkHtml = 'Like what you see? Visit the ' +\n",
              "          '<a target=\"_blank\" href=https://colab.research.google.com/notebooks/data_table.ipynb>data table notebook</a>'\n",
              "          + ' to learn more about interactive tables.';\n",
              "        element.innerHTML = '';\n",
              "        dataTable['output_type'] = 'display_data';\n",
              "        await google.colab.output.renderOutput(dataTable, element);\n",
              "        const docLink = document.createElement('div');\n",
              "        docLink.innerHTML = docLinkHtml;\n",
              "        element.appendChild(docLink);\n",
              "      }\n",
              "    </script>\n",
              "  </div>\n",
              "\n",
              "\n",
              "<div id=\"df-5e845a24-2968-4553-b7f0-06720c0085e9\">\n",
              "  <button class=\"colab-df-quickchart\" onclick=\"quickchart('df-5e845a24-2968-4553-b7f0-06720c0085e9')\"\n",
              "            title=\"Suggest charts\"\n",
              "            style=\"display:none;\">\n",
              "\n",
              "<svg xmlns=\"http://www.w3.org/2000/svg\" height=\"24px\"viewBox=\"0 0 24 24\"\n",
              "     width=\"24px\">\n",
              "    <g>\n",
              "        <path d=\"M19 3H5c-1.1 0-2 .9-2 2v14c0 1.1.9 2 2 2h14c1.1 0 2-.9 2-2V5c0-1.1-.9-2-2-2zM9 17H7v-7h2v7zm4 0h-2V7h2v10zm4 0h-2v-4h2v4z\"/>\n",
              "    </g>\n",
              "</svg>\n",
              "  </button>\n",
              "\n",
              "<style>\n",
              "  .colab-df-quickchart {\n",
              "      --bg-color: #E8F0FE;\n",
              "      --fill-color: #1967D2;\n",
              "      --hover-bg-color: #E2EBFA;\n",
              "      --hover-fill-color: #174EA6;\n",
              "      --disabled-fill-color: #AAA;\n",
              "      --disabled-bg-color: #DDD;\n",
              "  }\n",
              "\n",
              "  [theme=dark] .colab-df-quickchart {\n",
              "      --bg-color: #3B4455;\n",
              "      --fill-color: #D2E3FC;\n",
              "      --hover-bg-color: #434B5C;\n",
              "      --hover-fill-color: #FFFFFF;\n",
              "      --disabled-bg-color: #3B4455;\n",
              "      --disabled-fill-color: #666;\n",
              "  }\n",
              "\n",
              "  .colab-df-quickchart {\n",
              "    background-color: var(--bg-color);\n",
              "    border: none;\n",
              "    border-radius: 50%;\n",
              "    cursor: pointer;\n",
              "    display: none;\n",
              "    fill: var(--fill-color);\n",
              "    height: 32px;\n",
              "    padding: 0;\n",
              "    width: 32px;\n",
              "  }\n",
              "\n",
              "  .colab-df-quickchart:hover {\n",
              "    background-color: var(--hover-bg-color);\n",
              "    box-shadow: 0 1px 2px rgba(60, 64, 67, 0.3), 0 1px 3px 1px rgba(60, 64, 67, 0.15);\n",
              "    fill: var(--button-hover-fill-color);\n",
              "  }\n",
              "\n",
              "  .colab-df-quickchart-complete:disabled,\n",
              "  .colab-df-quickchart-complete:disabled:hover {\n",
              "    background-color: var(--disabled-bg-color);\n",
              "    fill: var(--disabled-fill-color);\n",
              "    box-shadow: none;\n",
              "  }\n",
              "\n",
              "  .colab-df-spinner {\n",
              "    border: 2px solid var(--fill-color);\n",
              "    border-color: transparent;\n",
              "    border-bottom-color: var(--fill-color);\n",
              "    animation:\n",
              "      spin 1s steps(1) infinite;\n",
              "  }\n",
              "\n",
              "  @keyframes spin {\n",
              "    0% {\n",
              "      border-color: transparent;\n",
              "      border-bottom-color: var(--fill-color);\n",
              "      border-left-color: var(--fill-color);\n",
              "    }\n",
              "    20% {\n",
              "      border-color: transparent;\n",
              "      border-left-color: var(--fill-color);\n",
              "      border-top-color: var(--fill-color);\n",
              "    }\n",
              "    30% {\n",
              "      border-color: transparent;\n",
              "      border-left-color: var(--fill-color);\n",
              "      border-top-color: var(--fill-color);\n",
              "      border-right-color: var(--fill-color);\n",
              "    }\n",
              "    40% {\n",
              "      border-color: transparent;\n",
              "      border-right-color: var(--fill-color);\n",
              "      border-top-color: var(--fill-color);\n",
              "    }\n",
              "    60% {\n",
              "      border-color: transparent;\n",
              "      border-right-color: var(--fill-color);\n",
              "    }\n",
              "    80% {\n",
              "      border-color: transparent;\n",
              "      border-right-color: var(--fill-color);\n",
              "      border-bottom-color: var(--fill-color);\n",
              "    }\n",
              "    90% {\n",
              "      border-color: transparent;\n",
              "      border-bottom-color: var(--fill-color);\n",
              "    }\n",
              "  }\n",
              "</style>\n",
              "\n",
              "  <script>\n",
              "    async function quickchart(key) {\n",
              "      const quickchartButtonEl =\n",
              "        document.querySelector('#' + key + ' button');\n",
              "      quickchartButtonEl.disabled = true;  // To prevent multiple clicks.\n",
              "      quickchartButtonEl.classList.add('colab-df-spinner');\n",
              "      try {\n",
              "        const charts = await google.colab.kernel.invokeFunction(\n",
              "            'suggestCharts', [key], {});\n",
              "      } catch (error) {\n",
              "        console.error('Error during call to suggestCharts:', error);\n",
              "      }\n",
              "      quickchartButtonEl.classList.remove('colab-df-spinner');\n",
              "      quickchartButtonEl.classList.add('colab-df-quickchart-complete');\n",
              "    }\n",
              "    (() => {\n",
              "      let quickchartButtonEl =\n",
              "        document.querySelector('#df-5e845a24-2968-4553-b7f0-06720c0085e9 button');\n",
              "      quickchartButtonEl.style.display =\n",
              "        google.colab.kernel.accessAllowed ? 'block' : 'none';\n",
              "    })();\n",
              "  </script>\n",
              "</div>\n",
              "    </div>\n",
              "  </div>\n"
            ],
            "application/vnd.google.colaboratory.intrinsic+json": {
              "type": "dataframe",
              "summary": "{\n  \"name\": \"df\",\n  \"rows\": 8,\n  \"fields\": [\n    {\n      \"column\": \"game_id\",\n      \"properties\": {\n        \"dtype\": \"number\",\n        \"std\": 7228.695446963755,\n        \"min\": 1.0,\n        \"max\": 20058.0,\n        \"num_unique_values\": 6,\n        \"samples\": [\n          20058.0,\n          10029.5,\n          15043.75\n        ],\n        \"semantic_type\": \"\",\n        \"description\": \"\"\n      }\n    },\n    {\n      \"column\": \"turns\",\n      \"properties\": {\n        \"dtype\": \"number\",\n        \"std\": 7061.351336920907,\n        \"min\": 1.0,\n        \"max\": 20058.0,\n        \"num_unique_values\": 8,\n        \"samples\": [\n          60.46599860404826,\n          55.0,\n          20058.0\n        ],\n        \"semantic_type\": \"\",\n        \"description\": \"\"\n      }\n    },\n    {\n      \"column\": \"white_rating\",\n      \"properties\": {\n        \"dtype\": \"number\",\n        \"std\": 6617.868365444669,\n        \"min\": 291.2533757370189,\n        \"max\": 20058.0,\n        \"num_unique_values\": 8,\n        \"samples\": [\n          1596.6318675840064,\n          1567.0,\n          20058.0\n        ],\n        \"semantic_type\": \"\",\n        \"description\": \"\"\n      }\n    },\n    {\n      \"column\": \"black_rating\",\n      \"properties\": {\n        \"dtype\": \"number\",\n        \"std\": 6618.385736500956,\n        \"min\": 291.03612596033423,\n        \"max\": 20058.0,\n        \"num_unique_values\": 8,\n        \"samples\": [\n          1588.8319872370128,\n          1562.0,\n          20058.0\n        ],\n        \"semantic_type\": \"\",\n        \"description\": \"\"\n      }\n    },\n    {\n      \"column\": \"opening_moves\",\n      \"properties\": {\n        \"dtype\": \"number\",\n        \"std\": 7089.073310024768,\n        \"min\": 1.0,\n        \"max\": 20058.0,\n        \"num_unique_values\": 8,\n        \"samples\": [\n          4.8169807558081565,\n          4.0,\n          20058.0\n        ],\n        \"semantic_type\": \"\",\n        \"description\": \"\"\n      }\n    }\n  ]\n}"
            }
          },
          "metadata": {},
          "execution_count": 22
        }
      ]
    },
    {
      "cell_type": "markdown",
      "source": [
        "1. game_id:\n",
        "\n",
        "\n",
        "    max: 20.058\n",
        "    berdasarkan data diatas dapat diketahui bahwa jumlah total permainan pada dataset ini adalah 20.058\n",
        "\n",
        "2. Turns:\n",
        "    \n",
        "\n",
        "    min: 1\n",
        "    max: 349\n",
        "    mean: 60.46\n",
        "    berdasarkan data diatas dapat diketahui  bahwa langkah terdikit permainan catur daring adalah 1 langkah dan terbanyak nya adalah 349 langkah sedangkan rata-rata langkah pada permainan catur daring berkisar sekitar 60 langkah\n",
        "\n",
        "3. White_rating:\n",
        "\n",
        "\n",
        "    Min: 784\n",
        "    Max: 2700\n",
        "    Mean: 1596.63\n",
        "    Standar deviasi: 291.25\n",
        "    Berdasarkan data, rating putih yang  terendah adalah 784, sedangkan tertingginya adalah 2700. Rata-rata rating putih berada di sekitar 1596.63 dengan variasi yang signifikan sebesar 291.25.\n",
        "\n",
        "4. Black_rating:\n",
        "\n",
        "\n",
        "    Min: 789\n",
        "    Max: 2723\n",
        "    Mean: 1588.83\n",
        "    Standar deviasi: 291.04\n",
        "    Berdasarkan data Rating hitam yang terendah  adalah 789 sedangkan tertingginya adalah 2723. Rata-rata rating hitam adalah sekitar 1588.83 dengan variasi sebesar 291.04.\n",
        "\n",
        "5. Opening_moves:\n",
        "\n",
        "\n",
        "    Min: 1\n",
        "    Max: 28\n",
        "    Mean: 4.82\n",
        "    Standar deviasi: 2.80\n",
        "    Data menunjukkan bahwa jumlah langkah pembukaan permainan berkisar dari 1 hingga 28, dengan rata-rata sekitar 4.82 langkah.\n"
      ],
      "metadata": {
        "id": "q_OSzaKKV28E"
      }
    },
    {
      "cell_type": "markdown",
      "source": [
        "##**Exploratory Data Analysis**"
      ],
      "metadata": {
        "id": "YVd8wfBkV9OE"
      }
    },
    {
      "cell_type": "code",
      "source": [
        "sns.countplot(x = df['rated'], palette = 'Set1')\n",
        "plt.title (\"Permainan Berperingkat\")\n",
        "plt.xlabel(\"Status Permainan dinilai\")\n",
        "plt.ylabel(\"Jumlah Permainan\")"
      ],
      "metadata": {
        "colab": {
          "base_uri": "https://localhost:8080/",
          "height": 601
        },
        "id": "xmUKuIKroNjr",
        "outputId": "a9fc82c8-7e06-4bf8-bbeb-de1c3e9d93bc"
      },
      "execution_count": 49,
      "outputs": [
        {
          "output_type": "stream",
          "name": "stderr",
          "text": [
            "<ipython-input-49-adc1e80bd298>:1: FutureWarning: \n",
            "\n",
            "Passing `palette` without assigning `hue` is deprecated and will be removed in v0.14.0. Assign the `x` variable to `hue` and set `legend=False` for the same effect.\n",
            "\n",
            "  sns.countplot(x = df['rated'], palette = 'Set1')\n"
          ]
        },
        {
          "output_type": "execute_result",
          "data": {
            "text/plain": [
              "Text(0, 0.5, 'Jumlah Permainan')"
            ]
          },
          "metadata": {},
          "execution_count": 49
        },
        {
          "output_type": "display_data",
          "data": {
            "text/plain": [
              "<Figure size 640x480 with 1 Axes>"
            ],
            "image/png": "[encoded data removed]"
          },
          "metadata": {}
        }
      ]
    },
    {
      "cell_type": "markdown",
      "source": [
        "Berdasarkan visualisasi di atas, dapat disimpulkan bahwa mayoritas permainan catur daring menggunakan sistem penilaian (rated)."
      ],
      "metadata": {
        "id": "GolGYRsPpmJE"
      }
    },
    {
      "cell_type": "code",
      "source": [
        "victory_status_counts = df['victory_status'].value_counts()\n",
        "\n",
        "victory_status_counts.plot(kind='pie', autopct='%1.1f%%', startangle=140, colors=['skyblue', 'lightgreen', 'lightcoral', 'orange'])\n",
        "plt.title('Hasil Permainan')\n",
        "plt.ylabel('')\n",
        "plt.axis('equal')\n",
        "plt.show()"
      ],
      "metadata": {
        "id": "_ohZShs2Wv9r",
        "colab": {
          "base_uri": "https://localhost:8080/",
          "height": 428
        },
        "outputId": "a626b53c-8383-4d32-f0c8-7e85c1dfd261"
      },
      "execution_count": 31,
      "outputs": [
        {
          "output_type": "display_data",
          "data": {
            "text/plain": [
              "<Figure size 640x480 with 1 Axes>"
            ],
            "image/png": "[encoded data removed]"
          },
          "metadata": {}
        }
      ]
    },
    {
      "cell_type": "markdown",
      "source": [
        "Berdasarkan visualisasi di atas, dapat disimpulkan bahwa mayoritas hasil permainan yang dicapai dalam permainan catur daring adalah dengan cara menyerah, diikuti oleh skak mat, kehabisan waktu, dan yang paling jarang terjadi adalah hasil draw."
      ],
      "metadata": {
        "id": "s90ygAoyV_rC"
      }
    },
    {
      "cell_type": "code",
      "source": [
        "sns.histplot(df['white_rating'].dropna(), bins=10, kde = True)\n",
        "plt.title('Distribusi Rating pemain Putih')\n",
        "plt.xlabel(\"Rating\")\n",
        "plt.ylabel(\"Jumlah pemain putih\")"
      ],
      "metadata": {
        "colab": {
          "base_uri": "https://localhost:8080/",
          "height": 490
        },
        "id": "ouFRH7cQYb_U",
        "outputId": "1a0ea70c-6e0c-49c5-a7d7-2ceb8b4b5335"
      },
      "execution_count": 37,
      "outputs": [
        {
          "output_type": "execute_result",
          "data": {
            "text/plain": [
              "Text(0, 0.5, 'Jumlah pemain putih')"
            ]
          },
          "metadata": {},
          "execution_count": 37
        },
        {
          "output_type": "display_data",
          "data": {
            "text/plain": [
              "<Figure size 640x480 with 1 Axes>"
            ],
            "image/png": "[encoded data removed]"
          },
          "metadata": {}
        }
      ]
    },
    {
      "cell_type": "markdown",
      "source": [
        "Berdasarkan Visualisasi diatas distribusi rating pemain putih normal."
      ],
      "metadata": {
        "id": "mGbLuvF8YrDx"
      }
    },
    {
      "cell_type": "code",
      "source": [
        "sns.histplot(df['black_rating'].dropna(), bins=10, kde = True)\n",
        "plt.title('Distribusi Rating pemain Hitam')\n",
        "plt.xlabel(\"Rating\")\n",
        "plt.ylabel(\"Jumlah pemain Hitam\")"
      ],
      "metadata": {
        "colab": {
          "base_uri": "https://localhost:8080/",
          "height": 490
        },
        "id": "dcXF7Gnkmmxm",
        "outputId": "fb6a563f-8eae-4237-c5da-22478d72a24a"
      },
      "execution_count": 38,
      "outputs": [
        {
          "output_type": "execute_result",
          "data": {
            "text/plain": [
              "Text(0, 0.5, 'Jumlah pemain Hitam')"
            ]
          },
          "metadata": {},
          "execution_count": 38
        },
        {
          "output_type": "display_data",
          "data": {
            "text/plain": [
              "<Figure size 640x480 with 1 Axes>"
            ],
            "image/png": "[encoded data removed]"
          },
          "metadata": {}
        }
      ]
    },
    {
      "cell_type": "markdown",
      "source": [
        "Berdasarkan Visualisasi diatas distribusi rating pemain hitam normal."
      ],
      "metadata": {
        "id": "ZrAxdSJimr3W"
      }
    },
    {
      "cell_type": "code",
      "source": [
        "sns.heatmap(data = df[['rated', 'turns',  'white_rating', 'black_rating', 'opening_moves']].corr(),\n",
        "            annot = True,\n",
        "            cmap= 'viridis')"
      ],
      "metadata": {
        "colab": {
          "base_uri": "https://localhost:8080/",
          "height": 548
        },
        "id": "dKCkTJEumvd-",
        "outputId": "061feead-5b2c-4e54-8790-c7eba5970623"
      },
      "execution_count": 39,
      "outputs": [
        {
          "output_type": "execute_result",
          "data": {
            "text/plain": [
              "<Axes: >"
            ]
          },
          "metadata": {},
          "execution_count": 39
        },
        {
          "output_type": "display_data",
          "data": {
            "text/plain": [
              "<Figure size 640x480 with 2 Axes>"
            ],
            "image/png": "[encoded data removed]"
          },
          "metadata": {}
        }
      ]
    },
    {
      "cell_type": "markdown",
      "source": [
        "\n",
        "Terdapat korelasi antara rating pemain putih dan rating pemain hitam sebesar 0.63. Hal ini dianggap wajar karena dalam permainan catur, pemain cenderung bertemu dengan lawan yang memiliki rating yang sama atau mirip."
      ],
      "metadata": {
        "id": "I-58aefWnGtU"
      }
    },
    {
      "cell_type": "markdown",
      "source": [
        "##**Verify Data Quality**"
      ],
      "metadata": {
        "id": "BqwrKc6WXFpz"
      }
    },
    {
      "cell_type": "markdown",
      "source": [
        "####Missing Values"
      ],
      "metadata": {
        "id": "JrPhpE3VXTMR"
      }
    },
    {
      "cell_type": "code",
      "source": [
        "pd.DataFrame(df.isna().sum() / len(df) * 100, columns=['Null Ratio in %'])"
      ],
      "metadata": {
        "id": "iq2vTmQJXhuj",
        "colab": {
          "base_uri": "https://localhost:8080/",
          "height": 582
        },
        "outputId": "7eaeec52-0fcb-4390-cf2a-8e19f8249e77"
      },
      "execution_count": 23,
      "outputs": [
        {
          "output_type": "execute_result",
          "data": {
            "text/plain": [
              "                   Null Ratio in %\n",
              "game_id                   0.000000\n",
              "rated                     0.000000\n",
              "turns                     0.000000\n",
              "victory_status            0.000000\n",
              "winner                    0.000000\n",
              "time_increment            0.000000\n",
              "white_id                  0.000000\n",
              "white_rating              0.000000\n",
              "black_id                  0.000000\n",
              "black_rating              0.000000\n",
              "moves                     0.000000\n",
              "opening_code              0.000000\n",
              "opening_moves             0.000000\n",
              "opening_fullname          0.000000\n",
              "opening_shortname         0.000000\n",
              "opening_response         93.982451\n",
              "opening_variation        28.218167"
            ],
            "text/html": [
              "\n",
              "  <div id=\"df-a6a0108d-83ab-4c41-8065-15f1bf46118a\" class=\"colab-df-container\">\n",
              "    <div>\n",
              "<style scoped>\n",
              "    .dataframe tbody tr th:only-of-type {\n",
              "        vertical-align: middle;\n",
              "    }\n",
              "\n",
              "    .dataframe tbody tr th {\n",
              "        vertical-align: top;\n",
              "    }\n",
              "\n",
              "    .dataframe thead th {\n",
              "        text-align: right;\n",
              "    }\n",
              "</style>\n",
              "<table border=\"1\" class=\"dataframe\">\n",
              "  <thead>\n",
              "    <tr style=\"text-align: right;\">\n",
              "      <th></th>\n",
              "      <th>Null Ratio in %</th>\n",
              "    </tr>\n",
              "  </thead>\n",
              "  <tbody>\n",
              "    <tr>\n",
              "      <th>game_id</th>\n",
              "      <td>0.000000</td>\n",
              "    </tr>\n",
              "    <tr>\n",
              "      <th>rated</th>\n",
              "      <td>0.000000</td>\n",
              "    </tr>\n",
              "    <tr>\n",
              "      <th>turns</th>\n",
              "      <td>0.000000</td>\n",
              "    </tr>\n",
              "    <tr>\n",
              "      <th>victory_status</th>\n",
              "      <td>0.000000</td>\n",
              "    </tr>\n",
              "    <tr>\n",
              "      <th>winner</th>\n",
              "      <td>0.000000</td>\n",
              "    </tr>\n",
              "    <tr>\n",
              "      <th>time_increment</th>\n",
              "      <td>0.000000</td>\n",
              "    </tr>\n",
              "    <tr>\n",
              "      <th>white_id</th>\n",
              "      <td>0.000000</td>\n",
              "    </tr>\n",
              "    <tr>\n",
              "      <th>white_rating</th>\n",
              "      <td>0.000000</td>\n",
              "    </tr>\n",
              "    <tr>\n",
              "      <th>black_id</th>\n",
              "      <td>0.000000</td>\n",
              "    </tr>\n",
              "    <tr>\n",
              "      <th>black_rating</th>\n",
              "      <td>0.000000</td>\n",
              "    </tr>\n",
              "    <tr>\n",
              "      <th>moves</th>\n",
              "      <td>0.000000</td>\n",
              "    </tr>\n",
              "    <tr>\n",
              "      <th>opening_code</th>\n",
              "      <td>0.000000</td>\n",
              "    </tr>\n",
              "    <tr>\n",
              "      <th>opening_moves</th>\n",
              "      <td>0.000000</td>\n",
              "    </tr>\n",
              "    <tr>\n",
              "      <th>opening_fullname</th>\n",
              "      <td>0.000000</td>\n",
              "    </tr>\n",
              "    <tr>\n",
              "      <th>opening_shortname</th>\n",
              "      <td>0.000000</td>\n",
              "    </tr>\n",
              "    <tr>\n",
              "      <th>opening_response</th>\n",
              "      <td>93.982451</td>\n",
              "    </tr>\n",
              "    <tr>\n",
              "      <th>opening_variation</th>\n",
              "      <td>28.218167</td>\n",
              "    </tr>\n",
              "  </tbody>\n",
              "</table>\n",
              "</div>\n",
              "    <div class=\"colab-df-buttons\">\n",
              "\n",
              "  <div class=\"colab-df-container\">\n",
              "    <button class=\"colab-df-convert\" onclick=\"convertToInteractive('df-a6a0108d-83ab-4c41-8065-15f1bf46118a')\"\n",
              "            title=\"Convert this dataframe to an interactive table.\"\n",
              "            style=\"display:none;\">\n",
              "\n",
              "  <svg xmlns=\"http://www.w3.org/2000/svg\" height=\"24px\" viewBox=\"0 -960 960 960\">\n",
              "    <path d=\"M120-120v-720h720v720H120Zm60-500h600v-160H180v160Zm220 220h160v-160H400v160Zm0 220h160v-160H400v160ZM180-400h160v-160H180v160Zm440 0h160v-160H620v160ZM180-180h160v-160H180v160Zm440 0h160v-160H620v160Z\"/>\n",
              "  </svg>\n",
              "    </button>\n",
              "\n",
              "  <style>\n",
              "    .colab-df-container {\n",
              "      display:flex;\n",
              "      gap: 12px;\n",
              "    }\n",
              "\n",
              "    .colab-df-convert {\n",
              "      background-color: #E8F0FE;\n",
              "      border: none;\n",
              "      border-radius: 50%;\n",
              "      cursor: pointer;\n",
              "      display: none;\n",
              "      fill: #1967D2;\n",
              "      height: 32px;\n",
              "      padding: 0 0 0 0;\n",
              "      width: 32px;\n",
              "    }\n",
              "\n",
              "    .colab-df-convert:hover {\n",
              "      background-color: #E2EBFA;\n",
              "      box-shadow: 0px 1px 2px rgba(60, 64, 67, 0.3), 0px 1px 3px 1px rgba(60, 64, 67, 0.15);\n",
              "      fill: #174EA6;\n",
              "    }\n",
              "\n",
              "    .colab-df-buttons div {\n",
              "      margin-bottom: 4px;\n",
              "    }\n",
              "\n",
              "    [theme=dark] .colab-df-convert {\n",
              "      background-color: #3B4455;\n",
              "      fill: #D2E3FC;\n",
              "    }\n",
              "\n",
              "    [theme=dark] .colab-df-convert:hover {\n",
              "      background-color: #434B5C;\n",
              "      box-shadow: 0px 1px 3px 1px rgba(0, 0, 0, 0.15);\n",
              "      filter: drop-shadow(0px 1px 2px rgba(0, 0, 0, 0.3));\n",
              "      fill: #FFFFFF;\n",
              "    }\n",
              "  </style>\n",
              "\n",
              "    <script>\n",
              "      const buttonEl =\n",
              "        document.querySelector('#df-a6a0108d-83ab-4c41-8065-15f1bf46118a button.colab-df-convert');\n",
              "      buttonEl.style.display =\n",
              "        google.colab.kernel.accessAllowed ? 'block' : 'none';\n",
              "\n",
              "      async function convertToInteractive(key) {\n",
              "        const element = document.querySelector('#df-a6a0108d-83ab-4c41-8065-15f1bf46118a');\n",
              "        const dataTable =\n",
              "          await google.colab.kernel.invokeFunction('convertToInteractive',\n",
              "                                                    [key], {});\n",
              "        if (!dataTable) return;\n",
              "\n",
              "        const docLinkHtml = 'Like what you see? Visit the ' +\n",
              "          '<a target=\"_blank\" href=https://colab.research.google.com/notebooks/data_table.ipynb>data table notebook</a>'\n",
              "          + ' to learn more about interactive tables.';\n",
              "        element.innerHTML = '';\n",
              "        dataTable['output_type'] = 'display_data';\n",
              "        await google.colab.output.renderOutput(dataTable, element);\n",
              "        const docLink = document.createElement('div');\n",
              "        docLink.innerHTML = docLinkHtml;\n",
              "        element.appendChild(docLink);\n",
              "      }\n",
              "    </script>\n",
              "  </div>\n",
              "\n",
              "\n",
              "<div id=\"df-2b2aacc0-8a38-4f3f-8b32-25f0829336be\">\n",
              "  <button class=\"colab-df-quickchart\" onclick=\"quickchart('df-2b2aacc0-8a38-4f3f-8b32-25f0829336be')\"\n",
              "            title=\"Suggest charts\"\n",
              "            style=\"display:none;\">\n",
              "\n",
              "<svg xmlns=\"http://www.w3.org/2000/svg\" height=\"24px\"viewBox=\"0 0 24 24\"\n",
              "     width=\"24px\">\n",
              "    <g>\n",
              "        <path d=\"M19 3H5c-1.1 0-2 .9-2 2v14c0 1.1.9 2 2 2h14c1.1 0 2-.9 2-2V5c0-1.1-.9-2-2-2zM9 17H7v-7h2v7zm4 0h-2V7h2v10zm4 0h-2v-4h2v4z\"/>\n",
              "    </g>\n",
              "</svg>\n",
              "  </button>\n",
              "\n",
              "<style>\n",
              "  .colab-df-quickchart {\n",
              "      --bg-color: #E8F0FE;\n",
              "      --fill-color: #1967D2;\n",
              "      --hover-bg-color: #E2EBFA;\n",
              "      --hover-fill-color: #174EA6;\n",
              "      --disabled-fill-color: #AAA;\n",
              "      --disabled-bg-color: #DDD;\n",
              "  }\n",
              "\n",
              "  [theme=dark] .colab-df-quickchart {\n",
              "      --bg-color: #3B4455;\n",
              "      --fill-color: #D2E3FC;\n",
              "      --hover-bg-color: #434B5C;\n",
              "      --hover-fill-color: #FFFFFF;\n",
              "      --disabled-bg-color: #3B4455;\n",
              "      --disabled-fill-color: #666;\n",
              "  }\n",
              "\n",
              "  .colab-df-quickchart {\n",
              "    background-color: var(--bg-color);\n",
              "    border: none;\n",
              "    border-radius: 50%;\n",
              "    cursor: pointer;\n",
              "    display: none;\n",
              "    fill: var(--fill-color);\n",
              "    height: 32px;\n",
              "    padding: 0;\n",
              "    width: 32px;\n",
              "  }\n",
              "\n",
              "  .colab-df-quickchart:hover {\n",
              "    background-color: var(--hover-bg-color);\n",
              "    box-shadow: 0 1px 2px rgba(60, 64, 67, 0.3), 0 1px 3px 1px rgba(60, 64, 67, 0.15);\n",
              "    fill: var(--button-hover-fill-color);\n",
              "  }\n",
              "\n",
              "  .colab-df-quickchart-complete:disabled,\n",
              "  .colab-df-quickchart-complete:disabled:hover {\n",
              "    background-color: var(--disabled-bg-color);\n",
              "    fill: var(--disabled-fill-color);\n",
              "    box-shadow: none;\n",
              "  }\n",
              "\n",
              "  .colab-df-spinner {\n",
              "    border: 2px solid var(--fill-color);\n",
              "    border-color: transparent;\n",
              "    border-bottom-color: var(--fill-color);\n",
              "    animation:\n",
              "      spin 1s steps(1) infinite;\n",
              "  }\n",
              "\n",
              "  @keyframes spin {\n",
              "    0% {\n",
              "      border-color: transparent;\n",
              "      border-bottom-color: var(--fill-color);\n",
              "      border-left-color: var(--fill-color);\n",
              "    }\n",
              "    20% {\n",
              "      border-color: transparent;\n",
              "      border-left-color: var(--fill-color);\n",
              "      border-top-color: var(--fill-color);\n",
              "    }\n",
              "    30% {\n",
              "      border-color: transparent;\n",
              "      border-left-color: var(--fill-color);\n",
              "      border-top-color: var(--fill-color);\n",
              "      border-right-color: var(--fill-color);\n",
              "    }\n",
              "    40% {\n",
              "      border-color: transparent;\n",
              "      border-right-color: var(--fill-color);\n",
              "      border-top-color: var(--fill-color);\n",
              "    }\n",
              "    60% {\n",
              "      border-color: transparent;\n",
              "      border-right-color: var(--fill-color);\n",
              "    }\n",
              "    80% {\n",
              "      border-color: transparent;\n",
              "      border-right-color: var(--fill-color);\n",
              "      border-bottom-color: var(--fill-color);\n",
              "    }\n",
              "    90% {\n",
              "      border-color: transparent;\n",
              "      border-bottom-color: var(--fill-color);\n",
              "    }\n",
              "  }\n",
              "</style>\n",
              "\n",
              "  <script>\n",
              "    async function quickchart(key) {\n",
              "      const quickchartButtonEl =\n",
              "        document.querySelector('#' + key + ' button');\n",
              "      quickchartButtonEl.disabled = true;  // To prevent multiple clicks.\n",
              "      quickchartButtonEl.classList.add('colab-df-spinner');\n",
              "      try {\n",
              "        const charts = await google.colab.kernel.invokeFunction(\n",
              "            'suggestCharts', [key], {});\n",
              "      } catch (error) {\n",
              "        console.error('Error during call to suggestCharts:', error);\n",
              "      }\n",
              "      quickchartButtonEl.classList.remove('colab-df-spinner');\n",
              "      quickchartButtonEl.classList.add('colab-df-quickchart-complete');\n",
              "    }\n",
              "    (() => {\n",
              "      let quickchartButtonEl =\n",
              "        document.querySelector('#df-2b2aacc0-8a38-4f3f-8b32-25f0829336be button');\n",
              "      quickchartButtonEl.style.display =\n",
              "        google.colab.kernel.accessAllowed ? 'block' : 'none';\n",
              "    })();\n",
              "  </script>\n",
              "</div>\n",
              "    </div>\n",
              "  </div>\n"
            ],
            "application/vnd.google.colaboratory.intrinsic+json": {
              "type": "dataframe",
              "summary": "{\n  \"name\": \"pd\",\n  \"rows\": 17,\n  \"fields\": [\n    {\n      \"column\": \"Null Ratio in %\",\n      \"properties\": {\n        \"dtype\": \"number\",\n        \"std\": 23.386100040607296,\n        \"min\": 0.0,\n        \"max\": 93.982450892412,\n        \"num_unique_values\": 3,\n        \"samples\": [\n          0.0,\n          93.982450892412,\n          28.218167314787117\n        ],\n        \"semantic_type\": \"\",\n        \"description\": \"\"\n      }\n    }\n  ]\n}"
            }
          },
          "metadata": {},
          "execution_count": 23
        }
      ]
    },
    {
      "cell_type": "markdown",
      "source": [
        "Berdasarkan data diatas dapat disimpulkan bahwa Sebagian besar kolom (kecuali opening_response dan opening_variation) tidak memiliki nilai kosong sama sekali. Sedangkan Kolom opening_response memiliki sekitar 94% nilai kosong, yang menunjukkan bahwa sebagian besar entri dalam kolom tersebut tidak diisi dan Kolom opening_variation memiliki sekitar 28% nilai kosong, yang menunjukkan bahwa sebagian kecil entri dalam kolom tersebut tidak diisi."
      ],
      "metadata": {
        "id": "2qJ5hwEqXoLo"
      }
    },
    {
      "cell_type": "markdown",
      "source": [
        "####Outliers Values"
      ],
      "metadata": {
        "id": "jEeCU-vVXV84"
      }
    },
    {
      "cell_type": "code",
      "source": [
        "plt.figure(figsize=(8, 6))\n",
        "sns.boxplot(y=df['turns'], color='skyblue')\n",
        "plt.title('Boxplot untuk Langkah permainan catur daring\"')\n",
        "plt.ylabel('Langkah')\n",
        "plt.show()"
      ],
      "metadata": {
        "id": "HGiqZ6aOX6HY",
        "colab": {
          "base_uri": "https://localhost:8080/",
          "height": 526
        },
        "outputId": "03f08ad0-3df5-4fb4-a581-c7a5d99ea3d4"
      },
      "execution_count": 13,
      "outputs": [
        {
          "output_type": "display_data",
          "data": {
            "text/plain": [
              "<Figure size 800x600 with 1 Axes>"
            ],
            "image/png": "[encoded data removed]"
          },
          "metadata": {}
        }
      ]
    },
    {
      "cell_type": "markdown",
      "source": [
        "Berdasarkan Visualisasi diatas dapat disimpulkan bahwa ada anomali atau outliers pada kolom turns dimana ada permainan catur daring yang mencapai 350 langkah."
      ],
      "metadata": {
        "id": "ggn0R2wCXuSC"
      }
    },
    {
      "cell_type": "markdown",
      "source": [
        "####Duplicated Values"
      ],
      "metadata": {
        "id": "vWjwGwZaXaod"
      }
    },
    {
      "cell_type": "code",
      "source": [
        "df[df.duplicated()]"
      ],
      "metadata": {
        "id": "7wcta1dbX8l3",
        "colab": {
          "base_uri": "https://localhost:8080/",
          "height": 73
        },
        "outputId": "fbf55673-3ac8-4213-f902-29ac6c1110d1"
      },
      "execution_count": 9,
      "outputs": [
        {
          "output_type": "execute_result",
          "data": {
            "text/plain": [
              "Empty DataFrame\n",
              "Columns: [game_id, rated, turns, victory_status, winner, time_increment, white_id, white_rating, black_id, black_rating, moves, opening_code, opening_moves, opening_fullname, opening_shortname, opening_response, opening_variation]\n",
              "Index: []"
            ],
            "text/html": [
              "\n",
              "  <div id=\"df-b76970d2-b615-43c1-a3b7-dde16bad2a06\" class=\"colab-df-container\">\n",
              "    <div>\n",
              "<style scoped>\n",
              "    .dataframe tbody tr th:only-of-type {\n",
              "        vertical-align: middle;\n",
              "    }\n",
              "\n",
              "    .dataframe tbody tr th {\n",
              "        vertical-align: top;\n",
              "    }\n",
              "\n",
              "    .dataframe thead th {\n",
              "        text-align: right;\n",
              "    }\n",
              "</style>\n",
              "<table border=\"1\" class=\"dataframe\">\n",
              "  <thead>\n",
              "    <tr style=\"text-align: right;\">\n",
              "      <th></th>\n",
              "      <th>game_id</th>\n",
              "      <th>rated</th>\n",
              "      <th>turns</th>\n",
              "      <th>victory_status</th>\n",
              "      <th>winner</th>\n",
              "      <th>time_increment</th>\n",
              "      <th>white_id</th>\n",
              "      <th>white_rating</th>\n",
              "      <th>black_id</th>\n",
              "      <th>black_rating</th>\n",
              "      <th>moves</th>\n",
              "      <th>opening_code</th>\n",
              "      <th>opening_moves</th>\n",
              "      <th>opening_fullname</th>\n",
              "      <th>opening_shortname</th>\n",
              "      <th>opening_response</th>\n",
              "      <th>opening_variation</th>\n",
              "    </tr>\n",
              "  </thead>\n",
              "  <tbody>\n",
              "  </tbody>\n",
              "</table>\n",
              "</div>\n",
              "    <div class=\"colab-df-buttons\">\n",
              "\n",
              "  <div class=\"colab-df-container\">\n",
              "    <button class=\"colab-df-convert\" onclick=\"convertToInteractive('df-b76970d2-b615-43c1-a3b7-dde16bad2a06')\"\n",
              "            title=\"Convert this dataframe to an interactive table.\"\n",
              "            style=\"display:none;\">\n",
              "\n",
              "  <svg xmlns=\"http://www.w3.org/2000/svg\" height=\"24px\" viewBox=\"0 -960 960 960\">\n",
              "    <path d=\"M120-120v-720h720v720H120Zm60-500h600v-160H180v160Zm220 220h160v-160H400v160Zm0 220h160v-160H400v160ZM180-400h160v-160H180v160Zm440 0h160v-160H620v160ZM180-180h160v-160H180v160Zm440 0h160v-160H620v160Z\"/>\n",
              "  </svg>\n",
              "    </button>\n",
              "\n",
              "  <style>\n",
              "    .colab-df-container {\n",
              "      display:flex;\n",
              "      gap: 12px;\n",
              "    }\n",
              "\n",
              "    .colab-df-convert {\n",
              "      background-color: #E8F0FE;\n",
              "      border: none;\n",
              "      border-radius: 50%;\n",
              "      cursor: pointer;\n",
              "      display: none;\n",
              "      fill: #1967D2;\n",
              "      height: 32px;\n",
              "      padding: 0 0 0 0;\n",
              "      width: 32px;\n",
              "    }\n",
              "\n",
              "    .colab-df-convert:hover {\n",
              "      background-color: #E2EBFA;\n",
              "      box-shadow: 0px 1px 2px rgba(60, 64, 67, 0.3), 0px 1px 3px 1px rgba(60, 64, 67, 0.15);\n",
              "      fill: #174EA6;\n",
              "    }\n",
              "\n",
              "    .colab-df-buttons div {\n",
              "      margin-bottom: 4px;\n",
              "    }\n",
              "\n",
              "    [theme=dark] .colab-df-convert {\n",
              "      background-color: #3B4455;\n",
              "      fill: #D2E3FC;\n",
              "    }\n",
              "\n",
              "    [theme=dark] .colab-df-convert:hover {\n",
              "      background-color: #434B5C;\n",
              "      box-shadow: 0px 1px 3px 1px rgba(0, 0, 0, 0.15);\n",
              "      filter: drop-shadow(0px 1px 2px rgba(0, 0, 0, 0.3));\n",
              "      fill: #FFFFFF;\n",
              "    }\n",
              "  </style>\n",
              "\n",
              "    <script>\n",
              "      const buttonEl =\n",
              "        document.querySelector('#df-b76970d2-b615-43c1-a3b7-dde16bad2a06 button.colab-df-convert');\n",
              "      buttonEl.style.display =\n",
              "        google.colab.kernel.accessAllowed ? 'block' : 'none';\n",
              "\n",
              "      async function convertToInteractive(key) {\n",
              "        const element = document.querySelector('#df-b76970d2-b615-43c1-a3b7-dde16bad2a06');\n",
              "        const dataTable =\n",
              "          await google.colab.kernel.invokeFunction('convertToInteractive',\n",
              "                                                    [key], {});\n",
              "        if (!dataTable) return;\n",
              "\n",
              "        const docLinkHtml = 'Like what you see? Visit the ' +\n",
              "          '<a target=\"_blank\" href=https://colab.research.google.com/notebooks/data_table.ipynb>data table notebook</a>'\n",
              "          + ' to learn more about interactive tables.';\n",
              "        element.innerHTML = '';\n",
              "        dataTable['output_type'] = 'display_data';\n",
              "        await google.colab.output.renderOutput(dataTable, element);\n",
              "        const docLink = document.createElement('div');\n",
              "        docLink.innerHTML = docLinkHtml;\n",
              "        element.appendChild(docLink);\n",
              "      }\n",
              "    </script>\n",
              "  </div>\n",
              "\n",
              "    </div>\n",
              "  </div>\n"
            ],
            "application/vnd.google.colaboratory.intrinsic+json": {
              "type": "dataframe",
              "repr_error": "'str' object has no attribute 'empty'"
            }
          },
          "metadata": {},
          "execution_count": 9
        }
      ]
    },
    {
      "cell_type": "markdown",
      "source": [
        "berdasarkan data diatas bisa dilihat bahwa tidak ada duplikasi pada dataset ini."
      ],
      "metadata": {
        "id": "VKTUrMJAX0fv"
      }
    },
    {
      "cell_type": "markdown",
      "source": [
        "####Inconsistent Values / Noise (Optional)"
      ],
      "metadata": {
        "id": "q0_lULWDX-y6"
      }
    },
    {
      "cell_type": "code",
      "source": [
        "#Tambahkan kode untuk mengecek apakah ada nilai inkosisten/noise pada tiap kolom di dataset kalian ya (OPSIONAL)"
      ],
      "metadata": {
        "id": "cnvHMqE3YawE"
      },
      "execution_count": null,
      "outputs": []
    },
    {
      "cell_type": "markdown",
      "source": [
        "Jangan lupa juga untuk berikan penjelasan di sini (OPSIONAL)"
      ],
      "metadata": {
        "id": "zN9xijkWYhq2"
      }
    }
  ]
}
